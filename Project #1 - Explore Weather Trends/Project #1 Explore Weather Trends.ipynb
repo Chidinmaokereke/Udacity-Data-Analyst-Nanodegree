{
 "cells": [
  {
   "attachments": {},
   "cell_type": "markdown",
   "id": "e7c1c535",
   "metadata": {},
   "source": [
    "# 🌤 Project #1: Explore Weather Trends\n",
    "\n",
    "## Summary\n",
    "\n",
    "This is the first project in the Udacity's Data Analyst Nanodegree Program: Course 1.\n",
    "\n",
    "In this project, we will\n",
    "- analyze local and global temperature data, and \n",
    "- compare the temperature trends where I live to overall global temperature trends.\n",
    "\n",
    "## Objectives\n",
    "\n",
    "The objectives are to\n",
    "- Extract data from database using SQL query.\n",
    "- Manipulate data using Python programming.\n",
    "- Create data visualization. A line chart is included in the submission.\n",
    "- Interpret and prepare a write up describing the similarities and differences between global temperature trends and temperature trends in the city where I live.\n",
    "\n",
    "## Database Schema\n",
    "\n",
    "There are three tables in the database:\n",
    "\n",
    "- **city_list** - This contains a list of cities and countries in the database. Look through them in order to find the city nearest to you.\n",
    "- **city_data** - This contains the average temperatures for each city by year (ºC).\n",
    "- **global_data** - This contains the average global temperatures by year (ºC).\n",
    "\n",
    "***\n",
    "\n",
    "## Accessing Data with SQL\n",
    "\n",
    "First, we extract the data set using SQL query on Udacity's website. \n",
    "\n",
    "````sql\n",
    "-- Extract global and Malaysia's temperature data\n",
    "SELECT \n",
    "    g.year, \n",
    "    g.avg_temp AS global_temp, \n",
    "    c.country,  \n",
    "    c.city, \n",
    "    c.avg_temp AS malaysia_temp\n",
    "FROM global_data g\n",
    "JOIN city_data c\n",
    "    ON g.year = c.year\n",
    "WHERE c.city = 'Kuala Lumpur';\n",
    "````\n",
    "\n",
    "My city selection is **Kuala Lumpur**. The output shows that there are 188 results. Then, I proceed to download the CSV file.\n",
    "\n",
    "## Preparing the Environment\n",
    "\n",
    "We will import the required libraries and read the data set.\n",
    "\n",
    "- Pandas - Data manipulation\n",
    "- Numpy - Data arrays\n",
    "- Matplotlib & Seaborn - Data visualisation"
   ]
  },
  {
   "cell_type": "code",
   "execution_count": 18,
   "id": "8f4c5b6a",
   "metadata": {},
   "outputs": [],
   "source": [
    "# Import libraries and alias for easy reading\n",
    "import pandas as pd\n",
    "import numpy as np\n",
    "import matplotlib.pyplot as plt\n",
    "import seaborn as sns\n",
    "import warnings\n",
    "warnings.filterwarnings(\"ignore\")\n",
    "%matplotlib inline"
   ]
  },
  {
   "cell_type": "code",
   "execution_count": 2,
   "id": "79722b88",
   "metadata": {},
   "outputs": [],
   "source": [
    "# Read in data in CSV format\n",
    "temperature = pd.read_csv('/Users/katiehuang/Documents/Data Analytics/Udacity Data Analyst Nanodegree/Project 1 - Explore Weather Trends/temperature.csv')"
   ]
  },
  {
   "cell_type": "markdown",
   "id": "b10b306d",
   "metadata": {},
   "source": [
    "## Exploring Data Set\n",
    "\n",
    "Let's have a look at the data using `df.head()`, `df.info()` and `df.describe()`."
   ]
  },
  {
   "cell_type": "code",
   "execution_count": 3,
   "id": "82b2a6da",
   "metadata": {},
   "outputs": [
    {
     "data": {
      "text/html": [
       "<div>\n",
       "<style scoped>\n",
       "    .dataframe tbody tr th:only-of-type {\n",
       "        vertical-align: middle;\n",
       "    }\n",
       "\n",
       "    .dataframe tbody tr th {\n",
       "        vertical-align: top;\n",
       "    }\n",
       "\n",
       "    .dataframe thead th {\n",
       "        text-align: right;\n",
       "    }\n",
       "</style>\n",
       "<table border=\"1\" class=\"dataframe\">\n",
       "  <thead>\n",
       "    <tr style=\"text-align: right;\">\n",
       "      <th></th>\n",
       "      <th>year</th>\n",
       "      <th>global_temp</th>\n",
       "      <th>country</th>\n",
       "      <th>city</th>\n",
       "      <th>malaysia_temp</th>\n",
       "    </tr>\n",
       "  </thead>\n",
       "  <tbody>\n",
       "    <tr>\n",
       "      <th>0</th>\n",
       "      <td>1825</td>\n",
       "      <td>8.39</td>\n",
       "      <td>Malaysia</td>\n",
       "      <td>Kuala Lumpur</td>\n",
       "      <td>26.46</td>\n",
       "    </tr>\n",
       "    <tr>\n",
       "      <th>1</th>\n",
       "      <td>1826</td>\n",
       "      <td>8.36</td>\n",
       "      <td>Malaysia</td>\n",
       "      <td>Kuala Lumpur</td>\n",
       "      <td>NaN</td>\n",
       "    </tr>\n",
       "    <tr>\n",
       "      <th>2</th>\n",
       "      <td>1827</td>\n",
       "      <td>8.81</td>\n",
       "      <td>Malaysia</td>\n",
       "      <td>Kuala Lumpur</td>\n",
       "      <td>NaN</td>\n",
       "    </tr>\n",
       "    <tr>\n",
       "      <th>3</th>\n",
       "      <td>1828</td>\n",
       "      <td>8.17</td>\n",
       "      <td>Malaysia</td>\n",
       "      <td>Kuala Lumpur</td>\n",
       "      <td>NaN</td>\n",
       "    </tr>\n",
       "    <tr>\n",
       "      <th>4</th>\n",
       "      <td>1829</td>\n",
       "      <td>7.94</td>\n",
       "      <td>Malaysia</td>\n",
       "      <td>Kuala Lumpur</td>\n",
       "      <td>NaN</td>\n",
       "    </tr>\n",
       "  </tbody>\n",
       "</table>\n",
       "</div>"
      ],
      "text/plain": [
       "   year  global_temp   country          city  malaysia_temp\n",
       "0  1825         8.39  Malaysia  Kuala Lumpur          26.46\n",
       "1  1826         8.36  Malaysia  Kuala Lumpur            NaN\n",
       "2  1827         8.81  Malaysia  Kuala Lumpur            NaN\n",
       "3  1828         8.17  Malaysia  Kuala Lumpur            NaN\n",
       "4  1829         7.94  Malaysia  Kuala Lumpur            NaN"
      ]
     },
     "execution_count": 3,
     "metadata": {},
     "output_type": "execute_result"
    }
   ],
   "source": [
    "# Preview first 5 rows of data set\n",
    "temperature.head()"
   ]
  },
  {
   "cell_type": "code",
   "execution_count": 4,
   "id": "a1d29ca3",
   "metadata": {},
   "outputs": [
    {
     "name": "stdout",
     "output_type": "stream",
     "text": [
      "<class 'pandas.core.frame.DataFrame'>\n",
      "RangeIndex: 189 entries, 0 to 188\n",
      "Data columns (total 5 columns):\n",
      " #   Column         Non-Null Count  Dtype  \n",
      "---  ------         --------------  -----  \n",
      " 0   year           189 non-null    int64  \n",
      " 1   global_temp    189 non-null    float64\n",
      " 2   country        189 non-null    object \n",
      " 3   city           189 non-null    object \n",
      " 4   malaysia_temp  172 non-null    float64\n",
      "dtypes: float64(2), int64(1), object(2)\n",
      "memory usage: 7.5+ KB\n"
     ]
    }
   ],
   "source": [
    "# Summarised information of data set\n",
    "temperature.info()"
   ]
  },
  {
   "cell_type": "markdown",
   "id": "af05e56b",
   "metadata": {},
   "source": [
    "From the summary, we can see that\n",
    "- There are a total of 188 rows and 5 columns in the data set.\n",
    "- Data types are correct and matches the corresponding values. \n",
    "- `malaysia_temp` column has null values.\n",
    "\n",
    "Let's perform some data cleaning.\n",
    "\n",
    "***"
   ]
  },
  {
   "cell_type": "markdown",
   "id": "05a7e978",
   "metadata": {},
   "source": [
    "## Data Cleaning\n",
    "\n",
    "Before we start with analysis, we must first clean the data or \"scrub the dirt\".\n",
    "\n",
    "For this step, we will look at the more common issues such as missing and duplicate data.\n",
    "\n",
    "**Handling Missing Values**\n",
    "\n",
    "Now, we will find out whether there are Null values."
   ]
  },
  {
   "cell_type": "code",
   "execution_count": 5,
   "id": "42f51abe",
   "metadata": {},
   "outputs": [
    {
     "data": {
      "text/plain": [
       "year              0\n",
       "global_temp       0\n",
       "country           0\n",
       "city              0\n",
       "malaysia_temp    17\n",
       "dtype: int64"
      ]
     },
     "execution_count": 5,
     "metadata": {},
     "output_type": "execute_result"
    }
   ],
   "source": [
    "# Find the number of null values for all columns\n",
    "temperature.isnull().sum()"
   ]
  },
  {
   "cell_type": "markdown",
   "id": "1c99a4e9",
   "metadata": {},
   "source": [
    "The result confirms that `malaysia_temp` has 17 NULL values."
   ]
  },
  {
   "cell_type": "code",
   "execution_count": 6,
   "id": "7393074f",
   "metadata": {},
   "outputs": [
    {
     "data": {
      "text/plain": [
       "year             0\n",
       "global_temp      0\n",
       "country          0\n",
       "city             0\n",
       "malaysia_temp    0\n",
       "dtype: int64"
      ]
     },
     "execution_count": 6,
     "metadata": {},
     "output_type": "execute_result"
    }
   ],
   "source": [
    "# Drop the NULL values\n",
    "temperature = temperature.dropna()\n",
    "\n",
    "# Reset index after dropping NULL values\n",
    "temperature = temperature.reset_index(drop=True)\n",
    "\n",
    "# Confirm that NULL values have been dropped from data set\n",
    "temperature.isnull().sum()"
   ]
  },
  {
   "cell_type": "markdown",
   "id": "f71e943a",
   "metadata": {},
   "source": [
    "**Duplicate Data**\n",
    "\n",
    "Next, we will find out whether there are any duplicate data."
   ]
  },
  {
   "cell_type": "code",
   "execution_count": 7,
   "id": "262ed058",
   "metadata": {},
   "outputs": [
    {
     "data": {
      "text/plain": [
       "0"
      ]
     },
     "execution_count": 7,
     "metadata": {},
     "output_type": "execute_result"
    }
   ],
   "source": [
    "# Find the number of duplicate data\n",
    "temperature.duplicated().sum()"
   ]
  },
  {
   "cell_type": "markdown",
   "id": "5e2400b6",
   "metadata": {},
   "source": [
    "Output shows that there are no duplicated data. \n",
    "\n",
    "OK, let's run another `df.info()` for good measure to confirm that our data is ready for analysis."
   ]
  },
  {
   "cell_type": "code",
   "execution_count": 8,
   "id": "804952d6",
   "metadata": {},
   "outputs": [
    {
     "name": "stdout",
     "output_type": "stream",
     "text": [
      "<class 'pandas.core.frame.DataFrame'>\n",
      "RangeIndex: 172 entries, 0 to 171\n",
      "Data columns (total 5 columns):\n",
      " #   Column         Non-Null Count  Dtype  \n",
      "---  ------         --------------  -----  \n",
      " 0   year           172 non-null    int64  \n",
      " 1   global_temp    172 non-null    float64\n",
      " 2   country        172 non-null    object \n",
      " 3   city           172 non-null    object \n",
      " 4   malaysia_temp  172 non-null    float64\n",
      "dtypes: float64(2), int64(1), object(2)\n",
      "memory usage: 6.8+ KB\n"
     ]
    }
   ],
   "source": [
    "temperature.info()"
   ]
  },
  {
   "cell_type": "markdown",
   "id": "b24f66ca",
   "metadata": {},
   "source": [
    "***\n",
    "\n",
    "## Descriptive Statistics\n",
    "\n",
    "Here, we will do a descriptive statistical analysis and use `df.describe()`."
   ]
  },
  {
   "cell_type": "code",
   "execution_count": 9,
   "id": "8469a6e7",
   "metadata": {},
   "outputs": [
    {
     "data": {
      "text/html": [
       "<div>\n",
       "<style scoped>\n",
       "    .dataframe tbody tr th:only-of-type {\n",
       "        vertical-align: middle;\n",
       "    }\n",
       "\n",
       "    .dataframe tbody tr th {\n",
       "        vertical-align: top;\n",
       "    }\n",
       "\n",
       "    .dataframe thead th {\n",
       "        text-align: right;\n",
       "    }\n",
       "</style>\n",
       "<table border=\"1\" class=\"dataframe\">\n",
       "  <thead>\n",
       "    <tr style=\"text-align: right;\">\n",
       "      <th></th>\n",
       "      <th>year</th>\n",
       "      <th>global_temp</th>\n",
       "      <th>malaysia_temp</th>\n",
       "    </tr>\n",
       "  </thead>\n",
       "  <tbody>\n",
       "    <tr>\n",
       "      <th>count</th>\n",
       "      <td>172.000000</td>\n",
       "      <td>172.000000</td>\n",
       "      <td>172.000000</td>\n",
       "    </tr>\n",
       "    <tr>\n",
       "      <th>mean</th>\n",
       "      <td>1927.087209</td>\n",
       "      <td>8.535116</td>\n",
       "      <td>26.566570</td>\n",
       "    </tr>\n",
       "    <tr>\n",
       "      <th>std</th>\n",
       "      <td>50.478859</td>\n",
       "      <td>0.464371</td>\n",
       "      <td>0.478242</td>\n",
       "    </tr>\n",
       "    <tr>\n",
       "      <th>min</th>\n",
       "      <td>1825.000000</td>\n",
       "      <td>7.630000</td>\n",
       "      <td>25.590000</td>\n",
       "    </tr>\n",
       "    <tr>\n",
       "      <th>25%</th>\n",
       "      <td>1884.750000</td>\n",
       "      <td>8.180000</td>\n",
       "      <td>26.202500</td>\n",
       "    </tr>\n",
       "    <tr>\n",
       "      <th>50%</th>\n",
       "      <td>1927.500000</td>\n",
       "      <td>8.520000</td>\n",
       "      <td>26.575000</td>\n",
       "    </tr>\n",
       "    <tr>\n",
       "      <th>75%</th>\n",
       "      <td>1970.250000</td>\n",
       "      <td>8.760000</td>\n",
       "      <td>26.922500</td>\n",
       "    </tr>\n",
       "    <tr>\n",
       "      <th>max</th>\n",
       "      <td>2013.000000</td>\n",
       "      <td>9.730000</td>\n",
       "      <td>27.890000</td>\n",
       "    </tr>\n",
       "  </tbody>\n",
       "</table>\n",
       "</div>"
      ],
      "text/plain": [
       "              year  global_temp  malaysia_temp\n",
       "count   172.000000   172.000000     172.000000\n",
       "mean   1927.087209     8.535116      26.566570\n",
       "std      50.478859     0.464371       0.478242\n",
       "min    1825.000000     7.630000      25.590000\n",
       "25%    1884.750000     8.180000      26.202500\n",
       "50%    1927.500000     8.520000      26.575000\n",
       "75%    1970.250000     8.760000      26.922500\n",
       "max    2013.000000     9.730000      27.890000"
      ]
     },
     "execution_count": 9,
     "metadata": {},
     "output_type": "execute_result"
    }
   ],
   "source": [
    "# Descriptive Statistics summary\n",
    "temperature.describe()"
   ]
  },
  {
   "cell_type": "markdown",
   "id": "3b7f19d4",
   "metadata": {},
   "source": [
    "From the statistical info, we observe that the lowest global temperature on average is 7.63ºC! Which is -2.35x of Malaysia's chilliest weather.\n",
    "\n",
    "It is also interesting to note that the highest global temperature on average is 9.73ºC, meaning that we have some very cold countries that are pulling the average down.\n",
    "\n",
    "***"
   ]
  },
  {
   "cell_type": "markdown",
   "id": "b9bdd805",
   "metadata": {},
   "source": [
    "## Moving Average for Time-Series Analysis\n",
    "\n",
    "Before we move on to the actual analysis, we have to find the moving averages of the temperature. \n",
    "\n",
    "### What is Moving Average\n",
    "\n",
    "``` Moving Average is used to analyse time-series data by calculating average of different subsets of a data set. ```\n",
    "\n",
    "It involves averaging the values of a fixed subset or, in our case, **averaging the temperature for a fixed period of years** and then, the subset is changed by moving forward to the next fixed subset. \n",
    "\n",
    "> For context, let's say we want to calculate the 10-years moving average for our data set. First, we calculate the average temperature from year 2000 to 2010. Then, we roll the subset forward by 1 year and calculate the average temperature for year 2001 to 2011 and, it goes on until we reached the end of the data set.\n",
    "\n",
    "### Calculating 10-Years Moving Average\n",
    "\n",
    "We will be using the Simple Moving Average (SMA) method. \n",
    "\n",
    "Let's calculate SMA for a window size of 10 years using the `rolling()` function."
   ]
  },
  {
   "cell_type": "code",
   "execution_count": 10,
   "id": "a462fe92",
   "metadata": {},
   "outputs": [
    {
     "data": {
      "text/html": [
       "<div>\n",
       "<style scoped>\n",
       "    .dataframe tbody tr th:only-of-type {\n",
       "        vertical-align: middle;\n",
       "    }\n",
       "\n",
       "    .dataframe tbody tr th {\n",
       "        vertical-align: top;\n",
       "    }\n",
       "\n",
       "    .dataframe thead th {\n",
       "        text-align: right;\n",
       "    }\n",
       "</style>\n",
       "<table border=\"1\" class=\"dataframe\">\n",
       "  <thead>\n",
       "    <tr style=\"text-align: right;\">\n",
       "      <th></th>\n",
       "      <th>year</th>\n",
       "      <th>global_temp</th>\n",
       "      <th>country</th>\n",
       "      <th>city</th>\n",
       "      <th>malaysia_temp</th>\n",
       "      <th>global_10y_ma</th>\n",
       "      <th>msia_10y_ma</th>\n",
       "    </tr>\n",
       "  </thead>\n",
       "  <tbody>\n",
       "    <tr>\n",
       "      <th>0</th>\n",
       "      <td>1825</td>\n",
       "      <td>8.39</td>\n",
       "      <td>Malaysia</td>\n",
       "      <td>Kuala Lumpur</td>\n",
       "      <td>26.46</td>\n",
       "      <td>NaN</td>\n",
       "      <td>NaN</td>\n",
       "    </tr>\n",
       "    <tr>\n",
       "      <th>1</th>\n",
       "      <td>1839</td>\n",
       "      <td>7.63</td>\n",
       "      <td>Malaysia</td>\n",
       "      <td>Kuala Lumpur</td>\n",
       "      <td>25.74</td>\n",
       "      <td>NaN</td>\n",
       "      <td>NaN</td>\n",
       "    </tr>\n",
       "    <tr>\n",
       "      <th>2</th>\n",
       "      <td>1840</td>\n",
       "      <td>7.80</td>\n",
       "      <td>Malaysia</td>\n",
       "      <td>Kuala Lumpur</td>\n",
       "      <td>25.96</td>\n",
       "      <td>NaN</td>\n",
       "      <td>NaN</td>\n",
       "    </tr>\n",
       "    <tr>\n",
       "      <th>3</th>\n",
       "      <td>1841</td>\n",
       "      <td>7.69</td>\n",
       "      <td>Malaysia</td>\n",
       "      <td>Kuala Lumpur</td>\n",
       "      <td>26.10</td>\n",
       "      <td>NaN</td>\n",
       "      <td>NaN</td>\n",
       "    </tr>\n",
       "    <tr>\n",
       "      <th>4</th>\n",
       "      <td>1842</td>\n",
       "      <td>8.02</td>\n",
       "      <td>Malaysia</td>\n",
       "      <td>Kuala Lumpur</td>\n",
       "      <td>26.18</td>\n",
       "      <td>NaN</td>\n",
       "      <td>NaN</td>\n",
       "    </tr>\n",
       "    <tr>\n",
       "      <th>5</th>\n",
       "      <td>1843</td>\n",
       "      <td>8.17</td>\n",
       "      <td>Malaysia</td>\n",
       "      <td>Kuala Lumpur</td>\n",
       "      <td>26.25</td>\n",
       "      <td>NaN</td>\n",
       "      <td>NaN</td>\n",
       "    </tr>\n",
       "    <tr>\n",
       "      <th>6</th>\n",
       "      <td>1844</td>\n",
       "      <td>7.65</td>\n",
       "      <td>Malaysia</td>\n",
       "      <td>Kuala Lumpur</td>\n",
       "      <td>25.77</td>\n",
       "      <td>NaN</td>\n",
       "      <td>NaN</td>\n",
       "    </tr>\n",
       "    <tr>\n",
       "      <th>7</th>\n",
       "      <td>1845</td>\n",
       "      <td>7.85</td>\n",
       "      <td>Malaysia</td>\n",
       "      <td>Kuala Lumpur</td>\n",
       "      <td>25.64</td>\n",
       "      <td>NaN</td>\n",
       "      <td>NaN</td>\n",
       "    </tr>\n",
       "    <tr>\n",
       "      <th>8</th>\n",
       "      <td>1846</td>\n",
       "      <td>8.55</td>\n",
       "      <td>Malaysia</td>\n",
       "      <td>Kuala Lumpur</td>\n",
       "      <td>26.44</td>\n",
       "      <td>NaN</td>\n",
       "      <td>NaN</td>\n",
       "    </tr>\n",
       "    <tr>\n",
       "      <th>9</th>\n",
       "      <td>1847</td>\n",
       "      <td>8.09</td>\n",
       "      <td>Malaysia</td>\n",
       "      <td>Kuala Lumpur</td>\n",
       "      <td>25.89</td>\n",
       "      <td>7.984</td>\n",
       "      <td>26.043</td>\n",
       "    </tr>\n",
       "    <tr>\n",
       "      <th>10</th>\n",
       "      <td>1850</td>\n",
       "      <td>7.90</td>\n",
       "      <td>Malaysia</td>\n",
       "      <td>Kuala Lumpur</td>\n",
       "      <td>26.06</td>\n",
       "      <td>7.935</td>\n",
       "      <td>26.003</td>\n",
       "    </tr>\n",
       "    <tr>\n",
       "      <th>11</th>\n",
       "      <td>1851</td>\n",
       "      <td>8.18</td>\n",
       "      <td>Malaysia</td>\n",
       "      <td>Kuala Lumpur</td>\n",
       "      <td>26.13</td>\n",
       "      <td>7.990</td>\n",
       "      <td>26.042</td>\n",
       "    </tr>\n",
       "    <tr>\n",
       "      <th>12</th>\n",
       "      <td>1852</td>\n",
       "      <td>8.10</td>\n",
       "      <td>Malaysia</td>\n",
       "      <td>Kuala Lumpur</td>\n",
       "      <td>26.02</td>\n",
       "      <td>8.020</td>\n",
       "      <td>26.048</td>\n",
       "    </tr>\n",
       "    <tr>\n",
       "      <th>13</th>\n",
       "      <td>1853</td>\n",
       "      <td>8.04</td>\n",
       "      <td>Malaysia</td>\n",
       "      <td>Kuala Lumpur</td>\n",
       "      <td>26.26</td>\n",
       "      <td>8.055</td>\n",
       "      <td>26.064</td>\n",
       "    </tr>\n",
       "    <tr>\n",
       "      <th>14</th>\n",
       "      <td>1854</td>\n",
       "      <td>8.21</td>\n",
       "      <td>Malaysia</td>\n",
       "      <td>Kuala Lumpur</td>\n",
       "      <td>25.98</td>\n",
       "      <td>8.074</td>\n",
       "      <td>26.044</td>\n",
       "    </tr>\n",
       "    <tr>\n",
       "      <th>15</th>\n",
       "      <td>1855</td>\n",
       "      <td>8.11</td>\n",
       "      <td>Malaysia</td>\n",
       "      <td>Kuala Lumpur</td>\n",
       "      <td>26.12</td>\n",
       "      <td>8.068</td>\n",
       "      <td>26.031</td>\n",
       "    </tr>\n",
       "    <tr>\n",
       "      <th>16</th>\n",
       "      <td>1856</td>\n",
       "      <td>8.00</td>\n",
       "      <td>Malaysia</td>\n",
       "      <td>Kuala Lumpur</td>\n",
       "      <td>26.21</td>\n",
       "      <td>8.103</td>\n",
       "      <td>26.075</td>\n",
       "    </tr>\n",
       "    <tr>\n",
       "      <th>17</th>\n",
       "      <td>1858</td>\n",
       "      <td>8.10</td>\n",
       "      <td>Malaysia</td>\n",
       "      <td>Kuala Lumpur</td>\n",
       "      <td>26.21</td>\n",
       "      <td>8.128</td>\n",
       "      <td>26.132</td>\n",
       "    </tr>\n",
       "    <tr>\n",
       "      <th>18</th>\n",
       "      <td>1859</td>\n",
       "      <td>8.25</td>\n",
       "      <td>Malaysia</td>\n",
       "      <td>Kuala Lumpur</td>\n",
       "      <td>26.27</td>\n",
       "      <td>8.098</td>\n",
       "      <td>26.115</td>\n",
       "    </tr>\n",
       "    <tr>\n",
       "      <th>19</th>\n",
       "      <td>1860</td>\n",
       "      <td>7.96</td>\n",
       "      <td>Malaysia</td>\n",
       "      <td>Kuala Lumpur</td>\n",
       "      <td>25.97</td>\n",
       "      <td>8.085</td>\n",
       "      <td>26.123</td>\n",
       "    </tr>\n",
       "  </tbody>\n",
       "</table>\n",
       "</div>"
      ],
      "text/plain": [
       "    year  global_temp   country          city  malaysia_temp  global_10y_ma  \\\n",
       "0   1825         8.39  Malaysia  Kuala Lumpur          26.46            NaN   \n",
       "1   1839         7.63  Malaysia  Kuala Lumpur          25.74            NaN   \n",
       "2   1840         7.80  Malaysia  Kuala Lumpur          25.96            NaN   \n",
       "3   1841         7.69  Malaysia  Kuala Lumpur          26.10            NaN   \n",
       "4   1842         8.02  Malaysia  Kuala Lumpur          26.18            NaN   \n",
       "5   1843         8.17  Malaysia  Kuala Lumpur          26.25            NaN   \n",
       "6   1844         7.65  Malaysia  Kuala Lumpur          25.77            NaN   \n",
       "7   1845         7.85  Malaysia  Kuala Lumpur          25.64            NaN   \n",
       "8   1846         8.55  Malaysia  Kuala Lumpur          26.44            NaN   \n",
       "9   1847         8.09  Malaysia  Kuala Lumpur          25.89          7.984   \n",
       "10  1850         7.90  Malaysia  Kuala Lumpur          26.06          7.935   \n",
       "11  1851         8.18  Malaysia  Kuala Lumpur          26.13          7.990   \n",
       "12  1852         8.10  Malaysia  Kuala Lumpur          26.02          8.020   \n",
       "13  1853         8.04  Malaysia  Kuala Lumpur          26.26          8.055   \n",
       "14  1854         8.21  Malaysia  Kuala Lumpur          25.98          8.074   \n",
       "15  1855         8.11  Malaysia  Kuala Lumpur          26.12          8.068   \n",
       "16  1856         8.00  Malaysia  Kuala Lumpur          26.21          8.103   \n",
       "17  1858         8.10  Malaysia  Kuala Lumpur          26.21          8.128   \n",
       "18  1859         8.25  Malaysia  Kuala Lumpur          26.27          8.098   \n",
       "19  1860         7.96  Malaysia  Kuala Lumpur          25.97          8.085   \n",
       "\n",
       "    msia_10y_ma  \n",
       "0           NaN  \n",
       "1           NaN  \n",
       "2           NaN  \n",
       "3           NaN  \n",
       "4           NaN  \n",
       "5           NaN  \n",
       "6           NaN  \n",
       "7           NaN  \n",
       "8           NaN  \n",
       "9        26.043  \n",
       "10       26.003  \n",
       "11       26.042  \n",
       "12       26.048  \n",
       "13       26.064  \n",
       "14       26.044  \n",
       "15       26.031  \n",
       "16       26.075  \n",
       "17       26.132  \n",
       "18       26.115  \n",
       "19       26.123  "
      ]
     },
     "execution_count": 10,
     "metadata": {},
     "output_type": "execute_result"
    }
   ],
   "source": [
    "# Calculating 10-years moving average\n",
    "temperature['global_10y_ma'] = temperature.iloc[:,1].rolling(window=10).mean()\n",
    "temperature['msia_10y_ma'] = temperature.iloc[:,4].rolling(window=10).mean()\n",
    "\n",
    "# Preview 1st 20 rows to confirm new moving average columns\n",
    "temperature.head(20)"
   ]
  },
  {
   "cell_type": "markdown",
   "id": "771dd56c",
   "metadata": {},
   "source": [
    "We can see that the 1st 10 rows are NaN (Not a Number) as the moving average is calculated using the 1st 10 rows hence, the calculated 10-year moving average value only starts at index no. 22."
   ]
  },
  {
   "cell_type": "markdown",
   "id": "f89d4ba8",
   "metadata": {},
   "source": [
    "***\n",
    "\n",
    "## Data Analysis and Visualization\n",
    "\n",
    "### Line Chart"
   ]
  },
  {
   "cell_type": "code",
   "execution_count": 19,
   "id": "f10034f9",
   "metadata": {},
   "outputs": [
    {
     "data": {
      "image/png": "[encoded data removed]",
      "text/plain": [
       "<Figure size 864x432 with 2 Axes>"
      ]
     },
     "metadata": {
      "needs_background": "light"
     },
     "output_type": "display_data"
    }
   ],
   "source": [
    "# Plotting line chart\n",
    "fig, ax = plt.subplots(figsize=[12,6])\n",
    "\n",
    "# Plotting for Global Temperature\n",
    "ax.plot(temperature.year, temperature.global_10y_ma, label='Global Cities 10Y Moving Average', color='blue')\n",
    "plt.xticks(np.arange(0, max(temperature.year)+1, 10))\n",
    "ax.set_xlabel('Year', size=12)\n",
    "ax.set_ylabel('Global Temperature in ºC', color='blue', size=12)\n",
    "ax.tick_params(axis='y', labelcolor='black')\n",
    "ax.legend(loc=[0.02,0.85], frameon=False)\n",
    "\n",
    "# Instantiate a second axes that shares the same x-axis\n",
    "ax1 = ax.twinx()\n",
    "\n",
    "# Plotting for Kuala Lumpur Temperature\n",
    "ax1.plot(temperature.year, temperature.msia_10y_ma, label='Kuala Lumpur 10Y Moving Average', color='red')\n",
    "ax1.set_ylabel('Kuala Lumpur Temperature in ºC', color='red', size=12)\n",
    "ax1.tick_params(axis='y', labelcolor='black')\n",
    "ax1.legend(loc=[0.02,0.9], frameon=False)\n",
    "\n",
    "fig.tight_layout()\n",
    "ax1.set_title(\"Global vs. Kuala Lumpur City: Temperature on 10-Year Moving Average\", size=14)\n",
    "plt.show()"
   ]
  },
  {
   "cell_type": "markdown",
   "id": "a6d42f99",
   "metadata": {},
   "source": [
    "From the line chart, we observe that\n",
    "- Global and Kuala Lumpur temperature has a similar line pattern and both are increasing steadily, especially at the end of 19th century and early 20th century.\n",
    "- Increase of overall temperature is most likely due to global warming and we should e\n"
   ]
  },
  {
   "cell_type": "markdown",
   "id": "f9602bcb",
   "metadata": {},
   "source": [
    "### Correlation Coefficient\n",
    "\n",
    "We will find out the relationship between years and temperature using the `corr()` function."
   ]
  },
  {
   "cell_type": "code",
   "execution_count": 29,
   "id": "a6abcc31",
   "metadata": {},
   "outputs": [
    {
     "data": {
      "text/html": [
       "<div>\n",
       "<style scoped>\n",
       "    .dataframe tbody tr th:only-of-type {\n",
       "        vertical-align: middle;\n",
       "    }\n",
       "\n",
       "    .dataframe tbody tr th {\n",
       "        vertical-align: top;\n",
       "    }\n",
       "\n",
       "    .dataframe thead th {\n",
       "        text-align: right;\n",
       "    }\n",
       "</style>\n",
       "<table border=\"1\" class=\"dataframe\">\n",
       "  <thead>\n",
       "    <tr style=\"text-align: right;\">\n",
       "      <th></th>\n",
       "      <th>year</th>\n",
       "      <th>global_temp</th>\n",
       "      <th>malaysia_temp</th>\n",
       "      <th>global_10y_ma</th>\n",
       "      <th>msia_10y_ma</th>\n",
       "    </tr>\n",
       "  </thead>\n",
       "  <tbody>\n",
       "    <tr>\n",
       "      <th>year</th>\n",
       "      <td>1.000000</td>\n",
       "      <td>0.856680</td>\n",
       "      <td>0.862513</td>\n",
       "      <td>0.922046</td>\n",
       "      <td>0.971210</td>\n",
       "    </tr>\n",
       "    <tr>\n",
       "      <th>global_temp</th>\n",
       "      <td>0.856680</td>\n",
       "      <td>1.000000</td>\n",
       "      <td>0.893495</td>\n",
       "      <td>0.926285</td>\n",
       "      <td>0.890161</td>\n",
       "    </tr>\n",
       "    <tr>\n",
       "      <th>malaysia_temp</th>\n",
       "      <td>0.862513</td>\n",
       "      <td>0.893495</td>\n",
       "      <td>1.000000</td>\n",
       "      <td>0.869262</td>\n",
       "      <td>0.896811</td>\n",
       "    </tr>\n",
       "    <tr>\n",
       "      <th>global_10y_ma</th>\n",
       "      <td>0.922046</td>\n",
       "      <td>0.926285</td>\n",
       "      <td>0.869262</td>\n",
       "      <td>1.000000</td>\n",
       "      <td>0.961499</td>\n",
       "    </tr>\n",
       "    <tr>\n",
       "      <th>msia_10y_ma</th>\n",
       "      <td>0.971210</td>\n",
       "      <td>0.890161</td>\n",
       "      <td>0.896811</td>\n",
       "      <td>0.961499</td>\n",
       "      <td>1.000000</td>\n",
       "    </tr>\n",
       "  </tbody>\n",
       "</table>\n",
       "</div>"
      ],
      "text/plain": [
       "                   year  global_temp  malaysia_temp  global_10y_ma  \\\n",
       "year           1.000000     0.856680       0.862513       0.922046   \n",
       "global_temp    0.856680     1.000000       0.893495       0.926285   \n",
       "malaysia_temp  0.862513     0.893495       1.000000       0.869262   \n",
       "global_10y_ma  0.922046     0.926285       0.869262       1.000000   \n",
       "msia_10y_ma    0.971210     0.890161       0.896811       0.961499   \n",
       "\n",
       "               msia_10y_ma  \n",
       "year              0.971210  \n",
       "global_temp       0.890161  \n",
       "malaysia_temp     0.896811  \n",
       "global_10y_ma     0.961499  \n",
       "msia_10y_ma       1.000000  "
      ]
     },
     "execution_count": 29,
     "metadata": {},
     "output_type": "execute_result"
    }
   ],
   "source": [
    "# Getting the correlation coefficient\n",
    "corr = temperature.corr()\n",
    "corr"
   ]
  },
  {
   "cell_type": "code",
   "execution_count": 43,
   "id": "2c0b3244",
   "metadata": {},
   "outputs": [
    {
     "data": {
      "image/png": "[encoded data removed]",
      "text/plain": [
       "<Figure size 432x360 with 2 Axes>"
      ]
     },
     "metadata": {
      "needs_background": "light"
     },
     "output_type": "display_data"
    }
   ],
   "source": [
    "# Plotting matrix heatmap\n",
    "plt.figure(figsize=[6,5])\n",
    "cmap = sns.diverging_palette(230, 20, as_cmap=True)\n",
    "sns.heatmap(corr, annot=True, cmap=cmap)\n",
    "plt.xticks(rotation=45)\n",
    "plt.title(\"Correlation Coefficient for Global and Kuala Lumpur Temperature\", size=12)\n",
    "plt.show()"
   ]
  },
  {
   "cell_type": "markdown",
   "id": "d5d85e87",
   "metadata": {},
   "source": [
    "Based on the heatmap, we can see that there is a higher correlation between `year` with `global_10y_ma' and `msia_10y_ma` and a slightly weaker correlation between `year` with `global_10y_ma' and `msia_10y_ma`."
   ]
  },
  {
   "cell_type": "markdown",
   "id": "c88c6a18",
   "metadata": {},
   "source": [
    "## Conclusion\n",
    "\n",
    "In conclusion:\n",
    "- The increase in overall global and Kuala Lumpur temperature are most likely due to global warming and we should expect a more vertical increase in the future.\n",
    "- The world is becoming hotter on average and the changes are consistent over time.\n",
    "- In the recent years in 2020 and 2021, we can expect slow down or minimal rise in global temperature due to the Covid-19 pandemic as people have been mostly staying home due to lockdown and businesses' operations have also reduced significantly."
   ]
  },
  {
   "cell_type": "markdown",
   "id": "6fafe37f",
   "metadata": {},
   "source": [
    "***\n",
    "\n",
    "### 📚 References"
   ]
  },
  {
   "cell_type": "markdown",
   "id": "3c7fbeb2",
   "metadata": {},
   "source": [
    "1. [DataCamp: Moving Averages in Pandas](https://www.datacamp.com/community/tutorials/moving-averages-in-pandas)\n",
    "2. [NumPy, SciPy, and Pandas: Correlation With Python](https://realpython.com/numpy-scipy-pandas-correlation-python/)\n",
    "\n",
    "Thank you for reading! Give a 🌟 if you like this analysis."
   ]
  }
 ],
 "metadata": {
  "kernelspec": {
   "display_name": "Python 3",
   "language": "python",
   "name": "python3"
  },
  "language_info": {
   "codemirror_mode": {
    "name": "ipython",
    "version": 3
   },
   "file_extension": ".py",
   "mimetype": "text/x-python",
   "name": "python",
   "nbconvert_exporter": "python",
   "pygments_lexer": "ipython3",
   "version": "3.8.8"
  }
 },
 "nbformat": 4,
 "nbformat_minor": 5
}
